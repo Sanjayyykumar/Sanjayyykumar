{
  "nbformat": 4,
  "nbformat_minor": 0,
  "metadata": {
    "colab": {
      "name": "SanjayKumarS_YOUTUBE_ADVIEW_PREDICTION.ipynb",
      "provenance": [],
      "collapsed_sections": [],
      "mount_file_id": "1PIuqIoPwdRsEXpV5jhLI7e-BbrmuuMmJ",
      "authorship_tag": "ABX9TyMU4NRwfK/CK4mjnnmx9Fa0",
      "include_colab_link": true
    },
    "kernelspec": {
      "name": "python3",
      "display_name": "Python 3"
    },
    "language_info": {
      "name": "python"
    }
  },
  "cells": [
    {
      "cell_type": "markdown",
      "metadata": {
        "id": "view-in-github",
        "colab_type": "text"
      },
      "source": [
        "<a href=\"https://colab.research.google.com/github/Sanjayyykumar/Sanjayyykumar/blob/main/SanjayKumarS_YOUTUBE_ADVIEW_PREDICTION.ipynb\" target=\"_parent\"><img src=\"https://colab.research.google.com/assets/colab-badge.svg\" alt=\"Open In Colab\"/></a>"
      ]
    },
    {
      "cell_type": "markdown",
      "metadata": {
        "id": "Fd8DvyWmN5X8"
      },
      "source": [
        "Youtube Adview prediction - submitted by Sanjay kumar S"
      ]
    },
    {
      "cell_type": "markdown",
      "metadata": {
        "id": "pbNDzibkPZdS"
      },
      "source": [
        "Firstly - Training the Data set with \"train.csv\" file"
      ]
    },
    {
      "cell_type": "code",
      "metadata": {
        "id": "wtffrWwMulr_"
      },
      "source": [
        "import numpy as np\n",
        "import pandas as pd\n",
        "import matplotlib.pyplot as plt"
      ],
      "execution_count": null,
      "outputs": []
    },
    {
      "cell_type": "code",
      "metadata": {
        "colab": {
          "base_uri": "https://localhost:8080/",
          "height": 212
        },
        "id": "zlZXXkt4u1H2",
        "outputId": "24aa6918-3421-4dc3-e7cf-65f90cf9a8a4"
      },
      "source": [
        "data=pd.read_csv(\"train.csv\")\n",
        "category={'A':1,'B':2,'C':3,'D':4,'E':5,'F':6,'G':7,'H':8}\n",
        "data[\"category\"]=data[\"category\"].map(category)\n",
        "data.head()"
      ],
      "execution_count": null,
      "outputs": [
        {
          "output_type": "error",
          "ename": "NameError",
          "evalue": "ignored",
          "traceback": [
            "\u001b[0;31m---------------------------------------------------------------------------\u001b[0m",
            "\u001b[0;31mNameError\u001b[0m                                 Traceback (most recent call last)",
            "\u001b[0;32m<ipython-input-1-c1653cad037d>\u001b[0m in \u001b[0;36m<module>\u001b[0;34m()\u001b[0m\n\u001b[0;32m----> 1\u001b[0;31m \u001b[0mdata\u001b[0m\u001b[0;34m=\u001b[0m\u001b[0mpd\u001b[0m\u001b[0;34m.\u001b[0m\u001b[0mread_csv\u001b[0m\u001b[0;34m(\u001b[0m\u001b[0;34m\"train.csv\"\u001b[0m\u001b[0;34m)\u001b[0m\u001b[0;34m\u001b[0m\u001b[0;34m\u001b[0m\u001b[0m\n\u001b[0m\u001b[1;32m      2\u001b[0m \u001b[0mcategory\u001b[0m\u001b[0;34m=\u001b[0m\u001b[0;34m{\u001b[0m\u001b[0;34m'A'\u001b[0m\u001b[0;34m:\u001b[0m\u001b[0;36m1\u001b[0m\u001b[0;34m,\u001b[0m\u001b[0;34m'B'\u001b[0m\u001b[0;34m:\u001b[0m\u001b[0;36m2\u001b[0m\u001b[0;34m,\u001b[0m\u001b[0;34m'C'\u001b[0m\u001b[0;34m:\u001b[0m\u001b[0;36m3\u001b[0m\u001b[0;34m,\u001b[0m\u001b[0;34m'D'\u001b[0m\u001b[0;34m:\u001b[0m\u001b[0;36m4\u001b[0m\u001b[0;34m,\u001b[0m\u001b[0;34m'E'\u001b[0m\u001b[0;34m:\u001b[0m\u001b[0;36m5\u001b[0m\u001b[0;34m,\u001b[0m\u001b[0;34m'F'\u001b[0m\u001b[0;34m:\u001b[0m\u001b[0;36m6\u001b[0m\u001b[0;34m,\u001b[0m\u001b[0;34m'G'\u001b[0m\u001b[0;34m:\u001b[0m\u001b[0;36m7\u001b[0m\u001b[0;34m,\u001b[0m\u001b[0;34m'H'\u001b[0m\u001b[0;34m:\u001b[0m\u001b[0;36m8\u001b[0m\u001b[0;34m}\u001b[0m\u001b[0;34m\u001b[0m\u001b[0;34m\u001b[0m\u001b[0m\n\u001b[1;32m      3\u001b[0m \u001b[0mdata\u001b[0m\u001b[0;34m[\u001b[0m\u001b[0;34m\"category\"\u001b[0m\u001b[0;34m]\u001b[0m\u001b[0;34m=\u001b[0m\u001b[0mdata\u001b[0m\u001b[0;34m[\u001b[0m\u001b[0;34m\"category\"\u001b[0m\u001b[0;34m]\u001b[0m\u001b[0;34m.\u001b[0m\u001b[0mmap\u001b[0m\u001b[0;34m(\u001b[0m\u001b[0mcategory\u001b[0m\u001b[0;34m)\u001b[0m\u001b[0;34m\u001b[0m\u001b[0;34m\u001b[0m\u001b[0m\n\u001b[1;32m      4\u001b[0m \u001b[0mdata\u001b[0m\u001b[0;34m.\u001b[0m\u001b[0mhead\u001b[0m\u001b[0;34m(\u001b[0m\u001b[0;34m)\u001b[0m\u001b[0;34m\u001b[0m\u001b[0;34m\u001b[0m\u001b[0m\n",
            "\u001b[0;31mNameError\u001b[0m: name 'pd' is not defined"
          ]
        }
      ]
    },
    {
      "cell_type": "code",
      "metadata": {
        "colab": {
          "base_uri": "https://localhost:8080/",
          "height": 203
        },
        "id": "Kwzs39ECvEKc",
        "outputId": "2f7377a4-ab45-4429-f642-b167f415bef0"
      },
      "source": [
        "data=data[data.views!='F']\n",
        "data=data[data.likes!='F']\n",
        "data=data[data.dislikes!='F']\n",
        "data=data[data.comment!='F']\n",
        "data.head()"
      ],
      "execution_count": null,
      "outputs": [
        {
          "output_type": "execute_result",
          "data": {
            "text/html": [
              "<div>\n",
              "<style scoped>\n",
              "    .dataframe tbody tr th:only-of-type {\n",
              "        vertical-align: middle;\n",
              "    }\n",
              "\n",
              "    .dataframe tbody tr th {\n",
              "        vertical-align: top;\n",
              "    }\n",
              "\n",
              "    .dataframe thead th {\n",
              "        text-align: right;\n",
              "    }\n",
              "</style>\n",
              "<table border=\"1\" class=\"dataframe\">\n",
              "  <thead>\n",
              "    <tr style=\"text-align: right;\">\n",
              "      <th></th>\n",
              "      <th>vidid</th>\n",
              "      <th>adview</th>\n",
              "      <th>views</th>\n",
              "      <th>likes</th>\n",
              "      <th>dislikes</th>\n",
              "      <th>comment</th>\n",
              "      <th>published</th>\n",
              "      <th>duration</th>\n",
              "      <th>category</th>\n",
              "    </tr>\n",
              "  </thead>\n",
              "  <tbody>\n",
              "    <tr>\n",
              "      <th>0</th>\n",
              "      <td>VID_18655</td>\n",
              "      <td>40</td>\n",
              "      <td>1031602</td>\n",
              "      <td>8523</td>\n",
              "      <td>363</td>\n",
              "      <td>1095</td>\n",
              "      <td>14-09-2016</td>\n",
              "      <td>PT7M37S</td>\n",
              "      <td>6</td>\n",
              "    </tr>\n",
              "    <tr>\n",
              "      <th>1</th>\n",
              "      <td>VID_14135</td>\n",
              "      <td>2</td>\n",
              "      <td>1707</td>\n",
              "      <td>56</td>\n",
              "      <td>2</td>\n",
              "      <td>6</td>\n",
              "      <td>01-10-2016</td>\n",
              "      <td>PT9M30S</td>\n",
              "      <td>4</td>\n",
              "    </tr>\n",
              "    <tr>\n",
              "      <th>2</th>\n",
              "      <td>VID_2187</td>\n",
              "      <td>1</td>\n",
              "      <td>2023</td>\n",
              "      <td>25</td>\n",
              "      <td>0</td>\n",
              "      <td>2</td>\n",
              "      <td>02-07-2016</td>\n",
              "      <td>PT2M16S</td>\n",
              "      <td>3</td>\n",
              "    </tr>\n",
              "    <tr>\n",
              "      <th>3</th>\n",
              "      <td>VID_23096</td>\n",
              "      <td>6</td>\n",
              "      <td>620860</td>\n",
              "      <td>777</td>\n",
              "      <td>161</td>\n",
              "      <td>153</td>\n",
              "      <td>27-07-2016</td>\n",
              "      <td>PT4M22S</td>\n",
              "      <td>8</td>\n",
              "    </tr>\n",
              "    <tr>\n",
              "      <th>4</th>\n",
              "      <td>VID_10175</td>\n",
              "      <td>1</td>\n",
              "      <td>666</td>\n",
              "      <td>1</td>\n",
              "      <td>0</td>\n",
              "      <td>0</td>\n",
              "      <td>29-06-2016</td>\n",
              "      <td>PT31S</td>\n",
              "      <td>4</td>\n",
              "    </tr>\n",
              "  </tbody>\n",
              "</table>\n",
              "</div>"
            ],
            "text/plain": [
              "       vidid  adview    views likes  ... comment   published duration category\n",
              "0  VID_18655      40  1031602  8523  ...    1095  14-09-2016  PT7M37S        6\n",
              "1  VID_14135       2     1707    56  ...       6  01-10-2016  PT9M30S        4\n",
              "2   VID_2187       1     2023    25  ...       2  02-07-2016  PT2M16S        3\n",
              "3  VID_23096       6   620860   777  ...     153  27-07-2016  PT4M22S        8\n",
              "4  VID_10175       1      666     1  ...       0  29-06-2016    PT31S        4\n",
              "\n",
              "[5 rows x 9 columns]"
            ]
          },
          "metadata": {},
          "execution_count": 8
        }
      ]
    },
    {
      "cell_type": "code",
      "metadata": {
        "colab": {
          "base_uri": "https://localhost:8080/",
          "height": 203
        },
        "id": "Dcon_-bRvJnR",
        "outputId": "287241d9-e8fa-4d72-b521-67bb77cda638"
      },
      "source": [
        "data[\"views\"] = pd.to_numeric(data[\"views\"])\n",
        "data[\"comment\"] = pd.to_numeric(data[\"comment\"])\n",
        "data[\"likes\"] = pd.to_numeric(data[\"likes\"])\n",
        "data[\"dislikes\"] = pd.to_numeric(data[\"dislikes\"])\n",
        "data[\"adview\"]=pd.to_numeric(data[\"adview\"])\n",
        "data.head()"
      ],
      "execution_count": null,
      "outputs": [
        {
          "output_type": "execute_result",
          "data": {
            "text/html": [
              "<div>\n",
              "<style scoped>\n",
              "    .dataframe tbody tr th:only-of-type {\n",
              "        vertical-align: middle;\n",
              "    }\n",
              "\n",
              "    .dataframe tbody tr th {\n",
              "        vertical-align: top;\n",
              "    }\n",
              "\n",
              "    .dataframe thead th {\n",
              "        text-align: right;\n",
              "    }\n",
              "</style>\n",
              "<table border=\"1\" class=\"dataframe\">\n",
              "  <thead>\n",
              "    <tr style=\"text-align: right;\">\n",
              "      <th></th>\n",
              "      <th>vidid</th>\n",
              "      <th>adview</th>\n",
              "      <th>views</th>\n",
              "      <th>likes</th>\n",
              "      <th>dislikes</th>\n",
              "      <th>comment</th>\n",
              "      <th>published</th>\n",
              "      <th>duration</th>\n",
              "      <th>category</th>\n",
              "    </tr>\n",
              "  </thead>\n",
              "  <tbody>\n",
              "    <tr>\n",
              "      <th>0</th>\n",
              "      <td>VID_18655</td>\n",
              "      <td>40</td>\n",
              "      <td>1031602</td>\n",
              "      <td>8523</td>\n",
              "      <td>363</td>\n",
              "      <td>1095</td>\n",
              "      <td>14-09-2016</td>\n",
              "      <td>PT7M37S</td>\n",
              "      <td>6</td>\n",
              "    </tr>\n",
              "    <tr>\n",
              "      <th>1</th>\n",
              "      <td>VID_14135</td>\n",
              "      <td>2</td>\n",
              "      <td>1707</td>\n",
              "      <td>56</td>\n",
              "      <td>2</td>\n",
              "      <td>6</td>\n",
              "      <td>01-10-2016</td>\n",
              "      <td>PT9M30S</td>\n",
              "      <td>4</td>\n",
              "    </tr>\n",
              "    <tr>\n",
              "      <th>2</th>\n",
              "      <td>VID_2187</td>\n",
              "      <td>1</td>\n",
              "      <td>2023</td>\n",
              "      <td>25</td>\n",
              "      <td>0</td>\n",
              "      <td>2</td>\n",
              "      <td>02-07-2016</td>\n",
              "      <td>PT2M16S</td>\n",
              "      <td>3</td>\n",
              "    </tr>\n",
              "    <tr>\n",
              "      <th>3</th>\n",
              "      <td>VID_23096</td>\n",
              "      <td>6</td>\n",
              "      <td>620860</td>\n",
              "      <td>777</td>\n",
              "      <td>161</td>\n",
              "      <td>153</td>\n",
              "      <td>27-07-2016</td>\n",
              "      <td>PT4M22S</td>\n",
              "      <td>8</td>\n",
              "    </tr>\n",
              "    <tr>\n",
              "      <th>4</th>\n",
              "      <td>VID_10175</td>\n",
              "      <td>1</td>\n",
              "      <td>666</td>\n",
              "      <td>1</td>\n",
              "      <td>0</td>\n",
              "      <td>0</td>\n",
              "      <td>29-06-2016</td>\n",
              "      <td>PT31S</td>\n",
              "      <td>4</td>\n",
              "    </tr>\n",
              "  </tbody>\n",
              "</table>\n",
              "</div>"
            ],
            "text/plain": [
              "       vidid  adview    views  likes  ...  comment   published duration category\n",
              "0  VID_18655      40  1031602   8523  ...     1095  14-09-2016  PT7M37S        6\n",
              "1  VID_14135       2     1707     56  ...        6  01-10-2016  PT9M30S        4\n",
              "2   VID_2187       1     2023     25  ...        2  02-07-2016  PT2M16S        3\n",
              "3  VID_23096       6   620860    777  ...      153  27-07-2016  PT4M22S        8\n",
              "4  VID_10175       1      666      1  ...        0  29-06-2016    PT31S        4\n",
              "\n",
              "[5 rows x 9 columns]"
            ]
          },
          "metadata": {},
          "execution_count": 9
        }
      ]
    },
    {
      "cell_type": "code",
      "metadata": {
        "colab": {
          "base_uri": "https://localhost:8080/",
          "height": 203
        },
        "id": "i1RsdMbovQFv",
        "outputId": "3a8e1ab7-bca3-44a1-9839-81aed0db4f48"
      },
      "source": [
        "from sklearn.preprocessing import LabelEncoder\n",
        "data['duration']=LabelEncoder().fit_transform(data['duration'])\n",
        "data['vidid']=LabelEncoder().fit_transform(data['vidid'])\n",
        "data['published']=LabelEncoder().fit_transform(data['published'])\n",
        "data.head()"
      ],
      "execution_count": null,
      "outputs": [
        {
          "output_type": "execute_result",
          "data": {
            "text/html": [
              "<div>\n",
              "<style scoped>\n",
              "    .dataframe tbody tr th:only-of-type {\n",
              "        vertical-align: middle;\n",
              "    }\n",
              "\n",
              "    .dataframe tbody tr th {\n",
              "        vertical-align: top;\n",
              "    }\n",
              "\n",
              "    .dataframe thead th {\n",
              "        text-align: right;\n",
              "    }\n",
              "</style>\n",
              "<table border=\"1\" class=\"dataframe\">\n",
              "  <thead>\n",
              "    <tr style=\"text-align: right;\">\n",
              "      <th></th>\n",
              "      <th>vidid</th>\n",
              "      <th>adview</th>\n",
              "      <th>views</th>\n",
              "      <th>likes</th>\n",
              "      <th>dislikes</th>\n",
              "      <th>comment</th>\n",
              "      <th>published</th>\n",
              "      <th>duration</th>\n",
              "      <th>category</th>\n",
              "    </tr>\n",
              "  </thead>\n",
              "  <tbody>\n",
              "    <tr>\n",
              "      <th>0</th>\n",
              "      <td>5912</td>\n",
              "      <td>40</td>\n",
              "      <td>1031602</td>\n",
              "      <td>8523</td>\n",
              "      <td>363</td>\n",
              "      <td>1095</td>\n",
              "      <td>1090</td>\n",
              "      <td>2925</td>\n",
              "      <td>6</td>\n",
              "    </tr>\n",
              "    <tr>\n",
              "      <th>1</th>\n",
              "      <td>2741</td>\n",
              "      <td>2</td>\n",
              "      <td>1707</td>\n",
              "      <td>56</td>\n",
              "      <td>2</td>\n",
              "      <td>6</td>\n",
              "      <td>64</td>\n",
              "      <td>3040</td>\n",
              "      <td>4</td>\n",
              "    </tr>\n",
              "    <tr>\n",
              "      <th>2</th>\n",
              "      <td>8138</td>\n",
              "      <td>1</td>\n",
              "      <td>2023</td>\n",
              "      <td>25</td>\n",
              "      <td>0</td>\n",
              "      <td>2</td>\n",
              "      <td>122</td>\n",
              "      <td>1863</td>\n",
              "      <td>3</td>\n",
              "    </tr>\n",
              "    <tr>\n",
              "      <th>3</th>\n",
              "      <td>9005</td>\n",
              "      <td>6</td>\n",
              "      <td>620860</td>\n",
              "      <td>777</td>\n",
              "      <td>161</td>\n",
              "      <td>153</td>\n",
              "      <td>2088</td>\n",
              "      <td>2546</td>\n",
              "      <td>8</td>\n",
              "    </tr>\n",
              "    <tr>\n",
              "      <th>4</th>\n",
              "      <td>122</td>\n",
              "      <td>1</td>\n",
              "      <td>666</td>\n",
              "      <td>1</td>\n",
              "      <td>0</td>\n",
              "      <td>0</td>\n",
              "      <td>2233</td>\n",
              "      <td>1963</td>\n",
              "      <td>4</td>\n",
              "    </tr>\n",
              "  </tbody>\n",
              "</table>\n",
              "</div>"
            ],
            "text/plain": [
              "   vidid  adview    views  likes  ...  comment  published  duration  category\n",
              "0   5912      40  1031602   8523  ...     1095       1090      2925         6\n",
              "1   2741       2     1707     56  ...        6         64      3040         4\n",
              "2   8138       1     2023     25  ...        2        122      1863         3\n",
              "3   9005       6   620860    777  ...      153       2088      2546         8\n",
              "4    122       1      666      1  ...        0       2233      1963         4\n",
              "\n",
              "[5 rows x 9 columns]"
            ]
          },
          "metadata": {},
          "execution_count": 10
        }
      ]
    },
    {
      "cell_type": "code",
      "metadata": {
        "colab": {
          "base_uri": "https://localhost:8080/",
          "height": 203
        },
        "id": "HnPUritbvbPH",
        "outputId": "01df6e56-df7a-45a9-8e8d-2d84402d7b71"
      },
      "source": [
        "import time\n",
        "import datetime\n",
        "def checki(x):\n",
        "  y = x[2:]\n",
        "  h = ''\n",
        "  m = ''\n",
        "  s = ''\n",
        "  mm = ''\n",
        "  P = ['H','M','S']\n",
        "  for i in y:\n",
        "    if i not in P:\n",
        "      mm+=i\n",
        "    else:\n",
        "      if(i==\"H\"):\n",
        "        h = mm\n",
        "        mm = ''\n",
        "      elif(i == \"M\"):\n",
        "        m = mm\n",
        "        mm = ''\n",
        "      else:\n",
        "        s = mm\n",
        "        mm = ''\n",
        "  if(h==''):\n",
        "    h = '00'\n",
        "  if(m == ''):\n",
        "    m = '00'\n",
        "  if(s==''):\n",
        "    s='00'\n",
        "  bp = h+':'+m+':'+s\n",
        "  return bp\n",
        "train=pd.read_csv(\"train.csv\")\n",
        "mp = pd.read_csv(\"train.csv\")[\"duration\"]\n",
        "time = mp.apply(checki)\n",
        "\n",
        "def func_sec(time_string):\n",
        "  h, m, s = time_string.split(':')\n",
        "  return int(h) * 3600 + int(m) * 60 + int(s)\n",
        "time1=time.apply(func_sec)\n",
        "data[\"duration\"]=time1\n",
        "data.head()"
      ],
      "execution_count": null,
      "outputs": [
        {
          "output_type": "execute_result",
          "data": {
            "text/html": [
              "<div>\n",
              "<style scoped>\n",
              "    .dataframe tbody tr th:only-of-type {\n",
              "        vertical-align: middle;\n",
              "    }\n",
              "\n",
              "    .dataframe tbody tr th {\n",
              "        vertical-align: top;\n",
              "    }\n",
              "\n",
              "    .dataframe thead th {\n",
              "        text-align: right;\n",
              "    }\n",
              "</style>\n",
              "<table border=\"1\" class=\"dataframe\">\n",
              "  <thead>\n",
              "    <tr style=\"text-align: right;\">\n",
              "      <th></th>\n",
              "      <th>vidid</th>\n",
              "      <th>adview</th>\n",
              "      <th>views</th>\n",
              "      <th>likes</th>\n",
              "      <th>dislikes</th>\n",
              "      <th>comment</th>\n",
              "      <th>published</th>\n",
              "      <th>duration</th>\n",
              "      <th>category</th>\n",
              "    </tr>\n",
              "  </thead>\n",
              "  <tbody>\n",
              "    <tr>\n",
              "      <th>0</th>\n",
              "      <td>5912</td>\n",
              "      <td>40</td>\n",
              "      <td>1031602</td>\n",
              "      <td>8523</td>\n",
              "      <td>363</td>\n",
              "      <td>1095</td>\n",
              "      <td>1090</td>\n",
              "      <td>457</td>\n",
              "      <td>6</td>\n",
              "    </tr>\n",
              "    <tr>\n",
              "      <th>1</th>\n",
              "      <td>2741</td>\n",
              "      <td>2</td>\n",
              "      <td>1707</td>\n",
              "      <td>56</td>\n",
              "      <td>2</td>\n",
              "      <td>6</td>\n",
              "      <td>64</td>\n",
              "      <td>570</td>\n",
              "      <td>4</td>\n",
              "    </tr>\n",
              "    <tr>\n",
              "      <th>2</th>\n",
              "      <td>8138</td>\n",
              "      <td>1</td>\n",
              "      <td>2023</td>\n",
              "      <td>25</td>\n",
              "      <td>0</td>\n",
              "      <td>2</td>\n",
              "      <td>122</td>\n",
              "      <td>136</td>\n",
              "      <td>3</td>\n",
              "    </tr>\n",
              "    <tr>\n",
              "      <th>3</th>\n",
              "      <td>9005</td>\n",
              "      <td>6</td>\n",
              "      <td>620860</td>\n",
              "      <td>777</td>\n",
              "      <td>161</td>\n",
              "      <td>153</td>\n",
              "      <td>2088</td>\n",
              "      <td>262</td>\n",
              "      <td>8</td>\n",
              "    </tr>\n",
              "    <tr>\n",
              "      <th>4</th>\n",
              "      <td>122</td>\n",
              "      <td>1</td>\n",
              "      <td>666</td>\n",
              "      <td>1</td>\n",
              "      <td>0</td>\n",
              "      <td>0</td>\n",
              "      <td>2233</td>\n",
              "      <td>31</td>\n",
              "      <td>4</td>\n",
              "    </tr>\n",
              "  </tbody>\n",
              "</table>\n",
              "</div>"
            ],
            "text/plain": [
              "   vidid  adview    views  likes  ...  comment  published  duration  category\n",
              "0   5912      40  1031602   8523  ...     1095       1090       457         6\n",
              "1   2741       2     1707     56  ...        6         64       570         4\n",
              "2   8138       1     2023     25  ...        2        122       136         3\n",
              "3   9005       6   620860    777  ...      153       2088       262         8\n",
              "4    122       1      666      1  ...        0       2233        31         4\n",
              "\n",
              "[5 rows x 9 columns]"
            ]
          },
          "metadata": {},
          "execution_count": 11
        }
      ]
    },
    {
      "cell_type": "code",
      "metadata": {
        "colab": {
          "base_uri": "https://localhost:8080/",
          "height": 265
        },
        "id": "o28RTKuIvep6",
        "outputId": "03978598-8f36-4eab-b36a-a3298ca66ed9"
      },
      "source": [
        "plt.hist(data[\"category\"])\n",
        "plt.show()"
      ],
      "execution_count": null,
      "outputs": [
        {
          "output_type": "display_data",
          "data": {
            "image/png": "[encoded data removed]",
            "text/plain": [
              "<Figure size 432x288 with 1 Axes>"
            ]
          },
          "metadata": {
            "needs_background": "light"
          }
        }
      ]
    },
    {
      "cell_type": "code",
      "metadata": {
        "colab": {
          "base_uri": "https://localhost:8080/",
          "height": 276
        },
        "id": "h9Q9W948vomv",
        "outputId": "7c3ecf38-d425-49fa-901b-24e0bab7ddb4"
      },
      "source": [
        "plt.plot(data[\"adview\"])\n",
        "plt.show()"
      ],
      "execution_count": null,
      "outputs": [
        {
          "output_type": "display_data",
          "data": {
            "image/png": "[encoded data removed]",
            "text/plain": [
              "<Figure size 432x288 with 1 Axes>"
            ]
          },
          "metadata": {
            "needs_background": "light"
          }
        }
      ]
    },
    {
      "cell_type": "code",
      "metadata": {
        "colab": {
          "base_uri": "https://localhost:8080/",
          "height": 276
        },
        "id": "qCMY3jVkvu0w",
        "outputId": "bbbc9d3e-24e6-4f20-cf59-1c2cf76b49a9"
      },
      "source": [
        "data=data[data[\"adview\"]<2000000]\n",
        "plt.plot(data[\"adview\"])\n",
        "plt.show()"
      ],
      "execution_count": null,
      "outputs": [
        {
          "output_type": "display_data",
          "data": {
            "image/png": "[encoded data removed]",
            "text/plain": [
              "<Figure size 432x288 with 1 Axes>"
            ]
          },
          "metadata": {
            "needs_background": "light"
          }
        }
      ]
    },
    {
      "cell_type": "code",
      "metadata": {
        "colab": {
          "base_uri": "https://localhost:8080/",
          "height": 487
        },
        "id": "P_VNCaZBv0lj",
        "outputId": "17b61a9c-34d2-4008-ed64-eff1371e3f39"
      },
      "source": [
        "import seaborn as sns\n",
        "f, ax = plt.subplots(figsize=(10, 8))\n",
        "corr = data.corr()\n",
        "sns.heatmap(corr, mask=np.zeros_like(corr, dtype=np.bool), cmap=sns.diverging_palette(220, 10, as_cmap=True),\n",
        "square=True, ax=ax,annot=True)\n",
        "plt.show()"
      ],
      "execution_count": null,
      "outputs": [
        {
          "output_type": "display_data",
          "data": {
            "image/png": "[encoded data removed]",
            "text/plain": [
              "<Figure size 720x576 with 2 Axes>"
            ]
          },
          "metadata": {
            "needs_background": "light"
          }
        }
      ]
    },
    {
      "cell_type": "code",
      "metadata": {
        "colab": {
          "base_uri": "https://localhost:8080/",
          "height": 203
        },
        "id": "7TCpaGDLv6vG",
        "outputId": "be454f84-01bd-4ca5-cd21-25aa215f1d34"
      },
      "source": [
        "Y_train=pd.DataFrame(data=data.iloc[:,1].values,columns=[\"Target\"])\n",
        "data=data.drop([\"vidid\"],axis=1)\n",
        "data=data.drop([\"adview\"],axis=1)\n",
        "data.head()"
      ],
      "execution_count": null,
      "outputs": [
        {
          "output_type": "execute_result",
          "data": {
            "text/html": [
              "<div>\n",
              "<style scoped>\n",
              "    .dataframe tbody tr th:only-of-type {\n",
              "        vertical-align: middle;\n",
              "    }\n",
              "\n",
              "    .dataframe tbody tr th {\n",
              "        vertical-align: top;\n",
              "    }\n",
              "\n",
              "    .dataframe thead th {\n",
              "        text-align: right;\n",
              "    }\n",
              "</style>\n",
              "<table border=\"1\" class=\"dataframe\">\n",
              "  <thead>\n",
              "    <tr style=\"text-align: right;\">\n",
              "      <th></th>\n",
              "      <th>views</th>\n",
              "      <th>likes</th>\n",
              "      <th>dislikes</th>\n",
              "      <th>comment</th>\n",
              "      <th>published</th>\n",
              "      <th>duration</th>\n",
              "      <th>category</th>\n",
              "    </tr>\n",
              "  </thead>\n",
              "  <tbody>\n",
              "    <tr>\n",
              "      <th>0</th>\n",
              "      <td>1031602</td>\n",
              "      <td>8523</td>\n",
              "      <td>363</td>\n",
              "      <td>1095</td>\n",
              "      <td>1090</td>\n",
              "      <td>457</td>\n",
              "      <td>6</td>\n",
              "    </tr>\n",
              "    <tr>\n",
              "      <th>1</th>\n",
              "      <td>1707</td>\n",
              "      <td>56</td>\n",
              "      <td>2</td>\n",
              "      <td>6</td>\n",
              "      <td>64</td>\n",
              "      <td>570</td>\n",
              "      <td>4</td>\n",
              "    </tr>\n",
              "    <tr>\n",
              "      <th>2</th>\n",
              "      <td>2023</td>\n",
              "      <td>25</td>\n",
              "      <td>0</td>\n",
              "      <td>2</td>\n",
              "      <td>122</td>\n",
              "      <td>136</td>\n",
              "      <td>3</td>\n",
              "    </tr>\n",
              "    <tr>\n",
              "      <th>3</th>\n",
              "      <td>620860</td>\n",
              "      <td>777</td>\n",
              "      <td>161</td>\n",
              "      <td>153</td>\n",
              "      <td>2088</td>\n",
              "      <td>262</td>\n",
              "      <td>8</td>\n",
              "    </tr>\n",
              "    <tr>\n",
              "      <th>4</th>\n",
              "      <td>666</td>\n",
              "      <td>1</td>\n",
              "      <td>0</td>\n",
              "      <td>0</td>\n",
              "      <td>2233</td>\n",
              "      <td>31</td>\n",
              "      <td>4</td>\n",
              "    </tr>\n",
              "  </tbody>\n",
              "</table>\n",
              "</div>"
            ],
            "text/plain": [
              "     views  likes  dislikes  comment  published  duration  category\n",
              "0  1031602   8523       363     1095       1090       457         6\n",
              "1     1707     56         2        6         64       570         4\n",
              "2     2023     25         0        2        122       136         3\n",
              "3   620860    777       161      153       2088       262         8\n",
              "4      666      1         0        0       2233        31         4"
            ]
          },
          "metadata": {},
          "execution_count": 16
        }
      ]
    },
    {
      "cell_type": "code",
      "metadata": {
        "colab": {
          "base_uri": "https://localhost:8080/"
        },
        "id": "9tMQPmthwANx",
        "outputId": "5562fec5-1c30-4661-e506-8dbeaf39e79b"
      },
      "source": [
        "from sklearn.model_selection import train_test_split\n",
        "x_train,x_test,y_train,y_test=train_test_split(data,Y_train,test_size=0.2,random_state=42)\n",
        "x_train.describe()\n",
        "x_test.shape"
      ],
      "execution_count": null,
      "outputs": [
        {
          "output_type": "execute_result",
          "data": {
            "text/plain": [
              "(2928, 7)"
            ]
          },
          "metadata": {},
          "execution_count": 17
        }
      ]
    },
    {
      "cell_type": "code",
      "metadata": {
        "colab": {
          "base_uri": "https://localhost:8080/"
        },
        "id": "FE3RUVFzwHuo",
        "outputId": "fe5eceed-46f3-4bb2-85f4-5bf33bde3849"
      },
      "source": [
        "from sklearn.preprocessing import MinMaxScaler\n",
        "#scaler=MinMaxScaler()\n",
        "x_train=MinMaxScaler().fit_transform(x_train)\n",
        "x_test=MinMaxScaler().fit_transform(x_test)\n",
        "x_train.mean()\n",
        "x_test"
      ],
      "execution_count": null,
      "outputs": [
        {
          "output_type": "execute_result",
          "data": {
            "text/plain": [
              "array([[7.17372469e-03, 8.63080853e-03, 3.31069610e-03, ...,\n",
              "        4.13271735e-01, 1.32738468e-02, 4.28571429e-01],\n",
              "       [3.43438476e-06, 1.06225336e-05, 0.00000000e+00, ...,\n",
              "        5.15749685e-01, 3.68717968e-04, 5.71428571e-01],\n",
              "       [4.17243632e-04, 7.32954817e-04, 1.13186191e-04, ...,\n",
              "        2.77614448e-01, 3.31477453e-02, 1.42857143e-01],\n",
              "       ...,\n",
              "       [9.69235691e-04, 1.32781670e-04, 3.39558574e-04, ...,\n",
              "        7.42965141e-01, 1.48593341e-02, 5.71428571e-01],\n",
              "       [7.67152853e-04, 3.67008535e-03, 5.37634409e-04, ...,\n",
              "        2.21755565e-01, 1.32001032e-02, 4.28571429e-01],\n",
              "       [2.63138694e-03, 1.20034629e-03, 8.20599887e-04, ...,\n",
              "        9.65560689e-01, 2.49990782e-02, 5.71428571e-01]])"
            ]
          },
          "metadata": {},
          "execution_count": 18
        }
      ]
    },
    {
      "cell_type": "code",
      "metadata": {
        "id": "p6l5z1rmwKth"
      },
      "source": [
        "from sklearn import metrics\n",
        "def print_error(x_test, y_test, model_name):\n",
        "  prediction = model_name.predict(x_test)\n",
        "  print('Mean Absolute Error:', metrics.mean_absolute_error(y_test, prediction))\n",
        "  print('Mean Squared Error:', metrics.mean_squared_error(y_test, prediction))\n",
        "  print('Root Mean Squared Error:', np.sqrt(metrics.mean_squared_error(y_test, prediction)))"
      ],
      "execution_count": null,
      "outputs": []
    },
    {
      "cell_type": "code",
      "metadata": {
        "colab": {
          "base_uri": "https://localhost:8080/"
        },
        "id": "7e7KfS_2wUOl",
        "outputId": "71250693-60b0-4bee-b7c9-e27d9d00c319"
      },
      "source": [
        "# Linear Regression\n",
        "from sklearn import linear_model\n",
        "linear_regression = linear_model.LinearRegression()\n",
        "linear_regression.fit(x_train, y_train)\n",
        "print_error(x_test,y_test, linear_regression)"
      ],
      "execution_count": null,
      "outputs": [
        {
          "output_type": "stream",
          "name": "stdout",
          "text": [
            "Mean Absolute Error: 3493.3179717888065\n",
            "Mean Squared Error: 838355049.0604035\n",
            "Root Mean Squared Error: 28954.361485973117\n"
          ]
        }
      ]
    },
    {
      "cell_type": "code",
      "metadata": {
        "colab": {
          "base_uri": "https://localhost:8080/"
        },
        "id": "sAO428rnw40t",
        "outputId": "fdd7cf5e-9b91-4e54-a89b-d8f2e7971fd7"
      },
      "source": [
        "# Support Vector Regressor\n",
        "from sklearn.svm import SVR\n",
        "supportvector_regressor = SVR()\n",
        "supportvector_regressor.fit(x_train,y_train)\n",
        "print_error(x_test,y_test, linear_regression)"
      ],
      "execution_count": null,
      "outputs": [
        {
          "output_type": "stream",
          "name": "stderr",
          "text": [
            "/usr/local/lib/python3.7/dist-packages/sklearn/utils/validation.py:760: DataConversionWarning: A column-vector y was passed when a 1d array was expected. Please change the shape of y to (n_samples, ), for example using ravel().\n",
            "  y = column_or_1d(y, warn=True)\n"
          ]
        },
        {
          "output_type": "stream",
          "name": "stdout",
          "text": [
            "Mean Absolute Error: 3493.3179717888065\n",
            "Mean Squared Error: 838355049.0604035\n",
            "Root Mean Squared Error: 28954.361485973117\n"
          ]
        }
      ]
    },
    {
      "cell_type": "code",
      "metadata": {
        "colab": {
          "base_uri": "https://localhost:8080/"
        },
        "id": "RNZBom6bw_EJ",
        "outputId": "484a6cb8-1e36-4491-decd-bcd378d045e2"
      },
      "source": [
        "# Decision Tree Regressor\n",
        "from sklearn.tree import DecisionTreeRegressor\n",
        "decision_tree = DecisionTreeRegressor()\n",
        "decision_tree.fit(x_train, y_train)\n",
        "print_error(x_test,y_test, decision_tree)"
      ],
      "execution_count": null,
      "outputs": [
        {
          "output_type": "stream",
          "name": "stdout",
          "text": [
            "Mean Absolute Error: 5604.691256830601\n",
            "Mean Squared Error: 4629671621.182377\n",
            "Root Mean Squared Error: 68041.69031691068\n"
          ]
        }
      ]
    },
    {
      "cell_type": "code",
      "metadata": {
        "colab": {
          "base_uri": "https://localhost:8080/"
        },
        "id": "fun3DZNTxEzp",
        "outputId": "fea9fb9b-fa48-418c-b525-ff7cb9150cfa"
      },
      "source": [
        "# Random Forest Regressor\n",
        "from sklearn.ensemble import RandomForestRegressor\n",
        "n_estimators = 200\n",
        "max_depth = 25\n",
        "min_samples_split=15\n",
        "min_samples_leaf=2\n",
        "random_forest = RandomForestRegressor(n_estimators = n_estimators, max_depth = max_depth, min_samples_split=min_samples_split)\n",
        "random_forest.fit(x_train,y_train)\n",
        "print_error(x_test,y_test, random_forest)"
      ],
      "execution_count": null,
      "outputs": [
        {
          "output_type": "stream",
          "name": "stderr",
          "text": [
            "/usr/local/lib/python3.7/dist-packages/ipykernel_launcher.py:8: DataConversionWarning: A column-vector y was passed when a 1d array was expected. Please change the shape of y to (n_samples,), for example using ravel().\n",
            "  \n"
          ]
        },
        {
          "output_type": "stream",
          "name": "stdout",
          "text": [
            "Mean Absolute Error: 3349.8767869789635\n",
            "Mean Squared Error: 861106786.3479174\n",
            "Root Mean Squared Error: 29344.621080326073\n"
          ]
        }
      ]
    },
    {
      "cell_type": "code",
      "metadata": {
        "colab": {
          "base_uri": "https://localhost:8080/"
        },
        "id": "j1wlh2ouYcxw",
        "outputId": "a3b353b6-de80-404e-f759-db069ceb1003"
      },
      "source": [
        "# Artificial Neural Network\n",
        "import keras\n",
        "import tensorflow as tf\n",
        "from keras.layers import Dense \n",
        "ann = keras.models.Sequential([Dense(6, activation=\"relu\",\n",
        "                              input_shape=x_train.shape[1: ]),\n",
        "                              Dense(6,activation=\"relu\"),\n",
        "                              Dense(1)])\n",
        "optimizer= tf.keras.optimizers.Adam()\n",
        "loss=keras.losses.mean_squared_error\n",
        "ann.compile(optimizer=optimizer,loss=loss,metrics=[\"mean_squared_error\"])\n",
        "history=ann.fit(x_train,y_train,epochs=100)\n",
        "ann.summary()\n",
        "print_error(x_test,y_test,ann)"
      ],
      "execution_count": null,
      "outputs": [
        {
          "output_type": "stream",
          "name": "stdout",
          "text": [
            "Epoch 1/100\n",
            "366/366 [==============================] - 1s 1ms/step - loss: 767406272.0000 - mean_squared_error: 767406272.0000\n",
            "Epoch 2/100\n",
            "366/366 [==============================] - 0s 1ms/step - loss: 767401408.0000 - mean_squared_error: 767401408.0000\n",
            "Epoch 3/100\n",
            "366/366 [==============================] - 0s 1ms/step - loss: 767390720.0000 - mean_squared_error: 767390720.0000\n",
            "Epoch 4/100\n",
            "366/366 [==============================] - 0s 1ms/step - loss: 767369792.0000 - mean_squared_error: 767369792.0000\n",
            "Epoch 5/100\n",
            "366/366 [==============================] - 0s 1ms/step - loss: 767339264.0000 - mean_squared_error: 767339264.0000\n",
            "Epoch 6/100\n",
            "366/366 [==============================] - 0s 1ms/step - loss: 767295488.0000 - mean_squared_error: 767295488.0000\n",
            "Epoch 7/100\n",
            "366/366 [==============================] - 0s 1ms/step - loss: 767237888.0000 - mean_squared_error: 767237888.0000\n",
            "Epoch 8/100\n",
            "366/366 [==============================] - 0s 1ms/step - loss: 767170176.0000 - mean_squared_error: 767170176.0000\n",
            "Epoch 9/100\n",
            "366/366 [==============================] - 0s 1ms/step - loss: 767092928.0000 - mean_squared_error: 767092928.0000\n",
            "Epoch 10/100\n",
            "366/366 [==============================] - 0s 1ms/step - loss: 767006464.0000 - mean_squared_error: 767006464.0000\n",
            "Epoch 11/100\n",
            "366/366 [==============================] - 0s 1ms/step - loss: 766909120.0000 - mean_squared_error: 766909120.0000\n",
            "Epoch 12/100\n",
            "366/366 [==============================] - 0s 1ms/step - loss: 766801216.0000 - mean_squared_error: 766801216.0000\n",
            "Epoch 13/100\n",
            "366/366 [==============================] - 0s 1ms/step - loss: 766690752.0000 - mean_squared_error: 766690752.0000\n",
            "Epoch 14/100\n",
            "366/366 [==============================] - 0s 1ms/step - loss: 766575040.0000 - mean_squared_error: 766575040.0000\n",
            "Epoch 15/100\n",
            "366/366 [==============================] - 0s 1ms/step - loss: 766457088.0000 - mean_squared_error: 766457088.0000\n",
            "Epoch 16/100\n",
            "366/366 [==============================] - 0s 1ms/step - loss: 766343744.0000 - mean_squared_error: 766343744.0000\n",
            "Epoch 17/100\n",
            "366/366 [==============================] - 0s 1ms/step - loss: 766228224.0000 - mean_squared_error: 766228224.0000\n",
            "Epoch 18/100\n",
            "366/366 [==============================] - 0s 1ms/step - loss: 766115200.0000 - mean_squared_error: 766115200.0000\n",
            "Epoch 19/100\n",
            "366/366 [==============================] - 0s 1ms/step - loss: 766003904.0000 - mean_squared_error: 766003904.0000\n",
            "Epoch 20/100\n",
            "366/366 [==============================] - 0s 1ms/step - loss: 765891776.0000 - mean_squared_error: 765891776.0000\n",
            "Epoch 21/100\n",
            "366/366 [==============================] - 0s 1ms/step - loss: 765781312.0000 - mean_squared_error: 765781312.0000\n",
            "Epoch 22/100\n",
            "366/366 [==============================] - 0s 1ms/step - loss: 765671232.0000 - mean_squared_error: 765671232.0000\n",
            "Epoch 23/100\n",
            "366/366 [==============================] - 0s 1ms/step - loss: 765564608.0000 - mean_squared_error: 765564608.0000\n",
            "Epoch 24/100\n",
            "366/366 [==============================] - 0s 1ms/step - loss: 765466560.0000 - mean_squared_error: 765466560.0000\n",
            "Epoch 25/100\n",
            "366/366 [==============================] - 0s 1ms/step - loss: 765375040.0000 - mean_squared_error: 765375040.0000\n",
            "Epoch 26/100\n",
            "366/366 [==============================] - 0s 1ms/step - loss: 765288512.0000 - mean_squared_error: 765288512.0000\n",
            "Epoch 27/100\n",
            "366/366 [==============================] - 0s 1ms/step - loss: 765208256.0000 - mean_squared_error: 765208256.0000\n",
            "Epoch 28/100\n",
            "366/366 [==============================] - 0s 1ms/step - loss: 765133312.0000 - mean_squared_error: 765133312.0000\n",
            "Epoch 29/100\n",
            "366/366 [==============================] - 0s 1ms/step - loss: 765062144.0000 - mean_squared_error: 765062144.0000\n",
            "Epoch 30/100\n",
            "366/366 [==============================] - 0s 1ms/step - loss: 764999936.0000 - mean_squared_error: 764999936.0000\n",
            "Epoch 31/100\n",
            "366/366 [==============================] - 0s 1ms/step - loss: 764942080.0000 - mean_squared_error: 764942080.0000\n",
            "Epoch 32/100\n",
            "366/366 [==============================] - 0s 1ms/step - loss: 764889280.0000 - mean_squared_error: 764889280.0000\n",
            "Epoch 33/100\n",
            "366/366 [==============================] - 0s 1ms/step - loss: 764838912.0000 - mean_squared_error: 764838912.0000\n",
            "Epoch 34/100\n",
            "366/366 [==============================] - 0s 1ms/step - loss: 764797632.0000 - mean_squared_error: 764797632.0000\n",
            "Epoch 35/100\n",
            "366/366 [==============================] - 0s 1ms/step - loss: 764757760.0000 - mean_squared_error: 764757760.0000\n",
            "Epoch 36/100\n",
            "366/366 [==============================] - 0s 1ms/step - loss: 764721152.0000 - mean_squared_error: 764721152.0000\n",
            "Epoch 37/100\n",
            "366/366 [==============================] - 0s 1ms/step - loss: 764689728.0000 - mean_squared_error: 764689728.0000\n",
            "Epoch 38/100\n",
            "366/366 [==============================] - 0s 1ms/step - loss: 764660864.0000 - mean_squared_error: 764660864.0000\n",
            "Epoch 39/100\n",
            "366/366 [==============================] - 0s 1ms/step - loss: 764631744.0000 - mean_squared_error: 764631744.0000\n",
            "Epoch 40/100\n",
            "366/366 [==============================] - 0s 1ms/step - loss: 764605632.0000 - mean_squared_error: 764605632.0000\n",
            "Epoch 41/100\n",
            "366/366 [==============================] - 0s 1ms/step - loss: 764585216.0000 - mean_squared_error: 764585216.0000\n",
            "Epoch 42/100\n",
            "366/366 [==============================] - 0s 1ms/step - loss: 764564864.0000 - mean_squared_error: 764564864.0000\n",
            "Epoch 43/100\n",
            "366/366 [==============================] - 0s 1ms/step - loss: 764546432.0000 - mean_squared_error: 764546432.0000\n",
            "Epoch 44/100\n",
            "366/366 [==============================] - 0s 1ms/step - loss: 764529472.0000 - mean_squared_error: 764529472.0000\n",
            "Epoch 45/100\n",
            "366/366 [==============================] - 0s 1ms/step - loss: 764514816.0000 - mean_squared_error: 764514816.0000\n",
            "Epoch 46/100\n",
            "366/366 [==============================] - 0s 1ms/step - loss: 764501440.0000 - mean_squared_error: 764501440.0000\n",
            "Epoch 47/100\n",
            "366/366 [==============================] - 0s 1ms/step - loss: 764488640.0000 - mean_squared_error: 764488640.0000\n",
            "Epoch 48/100\n",
            "366/366 [==============================] - 0s 1ms/step - loss: 764476224.0000 - mean_squared_error: 764476224.0000\n",
            "Epoch 49/100\n",
            "366/366 [==============================] - 0s 1ms/step - loss: 764466112.0000 - mean_squared_error: 764466112.0000\n",
            "Epoch 50/100\n",
            "366/366 [==============================] - 0s 1ms/step - loss: 764454272.0000 - mean_squared_error: 764454272.0000\n",
            "Epoch 51/100\n",
            "366/366 [==============================] - 0s 1ms/step - loss: 764444032.0000 - mean_squared_error: 764444032.0000\n",
            "Epoch 52/100\n",
            "366/366 [==============================] - 0s 1ms/step - loss: 764434176.0000 - mean_squared_error: 764434176.0000\n",
            "Epoch 53/100\n",
            "366/366 [==============================] - 0s 1ms/step - loss: 764426752.0000 - mean_squared_error: 764426752.0000\n",
            "Epoch 54/100\n",
            "366/366 [==============================] - 0s 1ms/step - loss: 764416576.0000 - mean_squared_error: 764416576.0000\n",
            "Epoch 55/100\n",
            "366/366 [==============================] - 0s 1ms/step - loss: 764411520.0000 - mean_squared_error: 764411520.0000\n",
            "Epoch 56/100\n",
            "366/366 [==============================] - 0s 1ms/step - loss: 764399872.0000 - mean_squared_error: 764399872.0000\n",
            "Epoch 57/100\n",
            "366/366 [==============================] - 0s 1ms/step - loss: 764394880.0000 - mean_squared_error: 764394880.0000\n",
            "Epoch 58/100\n",
            "366/366 [==============================] - 0s 1ms/step - loss: 764385280.0000 - mean_squared_error: 764385280.0000\n",
            "Epoch 59/100\n",
            "366/366 [==============================] - 0s 1ms/step - loss: 764378560.0000 - mean_squared_error: 764378560.0000\n",
            "Epoch 60/100\n",
            "366/366 [==============================] - 0s 1ms/step - loss: 764374464.0000 - mean_squared_error: 764374464.0000\n",
            "Epoch 61/100\n",
            "366/366 [==============================] - 0s 1ms/step - loss: 764365184.0000 - mean_squared_error: 764365184.0000\n",
            "Epoch 62/100\n",
            "366/366 [==============================] - 0s 1ms/step - loss: 764360320.0000 - mean_squared_error: 764360320.0000\n",
            "Epoch 63/100\n",
            "366/366 [==============================] - 0s 1ms/step - loss: 764356544.0000 - mean_squared_error: 764356544.0000\n",
            "Epoch 64/100\n",
            "366/366 [==============================] - 0s 1ms/step - loss: 764348736.0000 - mean_squared_error: 764348736.0000\n",
            "Epoch 65/100\n",
            "366/366 [==============================] - 0s 1ms/step - loss: 764342400.0000 - mean_squared_error: 764342400.0000\n",
            "Epoch 66/100\n",
            "366/366 [==============================] - 0s 1ms/step - loss: 764335168.0000 - mean_squared_error: 764335168.0000\n",
            "Epoch 67/100\n",
            "366/366 [==============================] - 0s 1ms/step - loss: 764332288.0000 - mean_squared_error: 764332288.0000\n",
            "Epoch 68/100\n",
            "366/366 [==============================] - 0s 1ms/step - loss: 764324928.0000 - mean_squared_error: 764324928.0000\n",
            "Epoch 69/100\n",
            "366/366 [==============================] - 0s 1ms/step - loss: 764317440.0000 - mean_squared_error: 764317440.0000\n",
            "Epoch 70/100\n",
            "366/366 [==============================] - 0s 1ms/step - loss: 764309888.0000 - mean_squared_error: 764309888.0000\n",
            "Epoch 71/100\n",
            "366/366 [==============================] - 0s 1ms/step - loss: 764306688.0000 - mean_squared_error: 764306688.0000\n",
            "Epoch 72/100\n",
            "366/366 [==============================] - 0s 1ms/step - loss: 764301504.0000 - mean_squared_error: 764301504.0000\n",
            "Epoch 73/100\n",
            "366/366 [==============================] - 0s 1ms/step - loss: 764292608.0000 - mean_squared_error: 764292608.0000\n",
            "Epoch 74/100\n",
            "366/366 [==============================] - 0s 1ms/step - loss: 764290752.0000 - mean_squared_error: 764290752.0000\n",
            "Epoch 75/100\n",
            "366/366 [==============================] - 0s 1ms/step - loss: 764280960.0000 - mean_squared_error: 764280960.0000\n",
            "Epoch 76/100\n",
            "366/366 [==============================] - 0s 1ms/step - loss: 764274624.0000 - mean_squared_error: 764274624.0000\n",
            "Epoch 77/100\n",
            "366/366 [==============================] - 0s 1ms/step - loss: 764269888.0000 - mean_squared_error: 764269888.0000\n",
            "Epoch 78/100\n",
            "366/366 [==============================] - 0s 1ms/step - loss: 764266624.0000 - mean_squared_error: 764266624.0000\n",
            "Epoch 79/100\n",
            "366/366 [==============================] - 0s 1ms/step - loss: 764258816.0000 - mean_squared_error: 764258816.0000\n",
            "Epoch 80/100\n",
            "366/366 [==============================] - 0s 1ms/step - loss: 764255168.0000 - mean_squared_error: 764255168.0000\n",
            "Epoch 81/100\n",
            "366/366 [==============================] - 0s 1ms/step - loss: 764248896.0000 - mean_squared_error: 764248896.0000\n",
            "Epoch 82/100\n",
            "366/366 [==============================] - 0s 1ms/step - loss: 764241536.0000 - mean_squared_error: 764241536.0000\n",
            "Epoch 83/100\n",
            "366/366 [==============================] - 0s 1ms/step - loss: 764236992.0000 - mean_squared_error: 764236992.0000\n",
            "Epoch 84/100\n",
            "366/366 [==============================] - 0s 1ms/step - loss: 764229312.0000 - mean_squared_error: 764229312.0000\n",
            "Epoch 85/100\n",
            "366/366 [==============================] - 0s 1ms/step - loss: 764225792.0000 - mean_squared_error: 764225792.0000\n",
            "Epoch 86/100\n",
            "366/366 [==============================] - 0s 1ms/step - loss: 764219328.0000 - mean_squared_error: 764219328.0000\n",
            "Epoch 87/100\n",
            "366/366 [==============================] - 0s 1ms/step - loss: 764214272.0000 - mean_squared_error: 764214272.0000\n",
            "Epoch 88/100\n",
            "366/366 [==============================] - 0s 1ms/step - loss: 764207424.0000 - mean_squared_error: 764207424.0000\n",
            "Epoch 89/100\n",
            "366/366 [==============================] - 0s 1ms/step - loss: 764204032.0000 - mean_squared_error: 764204032.0000\n",
            "Epoch 90/100\n",
            "366/366 [==============================] - 0s 1ms/step - loss: 764200000.0000 - mean_squared_error: 764200000.0000\n",
            "Epoch 91/100\n",
            "366/366 [==============================] - 0s 1ms/step - loss: 764192128.0000 - mean_squared_error: 764192128.0000\n",
            "Epoch 92/100\n",
            "366/366 [==============================] - 0s 1ms/step - loss: 764188992.0000 - mean_squared_error: 764188992.0000\n",
            "Epoch 93/100\n",
            "366/366 [==============================] - 0s 1ms/step - loss: 764183104.0000 - mean_squared_error: 764183104.0000\n",
            "Epoch 94/100\n",
            "366/366 [==============================] - 0s 1ms/step - loss: 764178048.0000 - mean_squared_error: 764178048.0000\n",
            "Epoch 95/100\n",
            "366/366 [==============================] - 0s 1ms/step - loss: 764174272.0000 - mean_squared_error: 764174272.0000\n",
            "Epoch 96/100\n",
            "366/366 [==============================] - 0s 1ms/step - loss: 764169792.0000 - mean_squared_error: 764169792.0000\n",
            "Epoch 97/100\n",
            "366/366 [==============================] - 0s 1ms/step - loss: 764164608.0000 - mean_squared_error: 764164608.0000\n",
            "Epoch 98/100\n",
            "366/366 [==============================] - 0s 1ms/step - loss: 764161856.0000 - mean_squared_error: 764161856.0000\n",
            "Epoch 99/100\n",
            "366/366 [==============================] - 0s 1ms/step - loss: 764155328.0000 - mean_squared_error: 764155328.0000\n",
            "Epoch 100/100\n",
            "366/366 [==============================] - 0s 1ms/step - loss: 764150464.0000 - mean_squared_error: 764150464.0000\n",
            "Model: \"sequential\"\n",
            "_________________________________________________________________\n",
            "Layer (type)                 Output Shape              Param #   \n",
            "=================================================================\n",
            "dense (Dense)                (None, 6)                 48        \n",
            "_________________________________________________________________\n",
            "dense_1 (Dense)              (None, 6)                 42        \n",
            "_________________________________________________________________\n",
            "dense_2 (Dense)              (None, 1)                 7         \n",
            "=================================================================\n",
            "Total params: 97\n",
            "Trainable params: 97\n",
            "Non-trainable params: 0\n",
            "_________________________________________________________________\n",
            "Mean Absolute Error: 3135.4140312543823\n",
            "Mean Squared Error: 830467027.5360379\n",
            "Root Mean Squared Error: 28817.824823120114\n"
          ]
        }
      ]
    },
    {
      "cell_type": "code",
      "metadata": {
        "colab": {
          "base_uri": "https://localhost:8080/"
        },
        "id": "h0H2TvhlxemA",
        "outputId": "f649fb20-0b07-4c4e-d3dd-1267031f0f52"
      },
      "source": [
        "#Saving Scikitlearn models\n",
        "import joblib\n",
        "joblib.dump(decision_tree, \"decisiontree_youtubeadview.pkl\")"
      ],
      "execution_count": null,
      "outputs": [
        {
          "output_type": "execute_result",
          "data": {
            "text/plain": [
              "['decisiontree_youtubeadview.pkl']"
            ]
          },
          "metadata": {},
          "execution_count": 25
        }
      ]
    },
    {
      "cell_type": "markdown",
      "metadata": {
        "id": "q4mU9dWeP1AZ"
      },
      "source": [
        "Testing using \"test.csv\" file"
      ]
    },
    {
      "cell_type": "code",
      "metadata": {
        "id": "onAcaQcly5Pj",
        "colab": {
          "base_uri": "https://localhost:8080/",
          "height": 203
        },
        "outputId": "682fbf0e-5e1d-499f-e52f-e025d00376d4"
      },
      "source": [
        "#testing\n",
        "testdata=pd.read_csv(\"test.csv\")\n",
        "category={'A':1,'B':2,'C':3,'D':4,'E':5,'F':6,'G':7,'H':8}\n",
        "testdata[\"category\"]=testdata[\"category\"].map(category)\n",
        "testdata=testdata.drop([\"vidid\"],axis=1)\n",
        "testdata.head()"
      ],
      "execution_count": null,
      "outputs": [
        {
          "output_type": "execute_result",
          "data": {
            "text/html": [
              "<div>\n",
              "<style scoped>\n",
              "    .dataframe tbody tr th:only-of-type {\n",
              "        vertical-align: middle;\n",
              "    }\n",
              "\n",
              "    .dataframe tbody tr th {\n",
              "        vertical-align: top;\n",
              "    }\n",
              "\n",
              "    .dataframe thead th {\n",
              "        text-align: right;\n",
              "    }\n",
              "</style>\n",
              "<table border=\"1\" class=\"dataframe\">\n",
              "  <thead>\n",
              "    <tr style=\"text-align: right;\">\n",
              "      <th></th>\n",
              "      <th>views</th>\n",
              "      <th>likes</th>\n",
              "      <th>dislikes</th>\n",
              "      <th>comment</th>\n",
              "      <th>published</th>\n",
              "      <th>duration</th>\n",
              "      <th>category</th>\n",
              "    </tr>\n",
              "  </thead>\n",
              "  <tbody>\n",
              "    <tr>\n",
              "      <th>0</th>\n",
              "      <td>440238</td>\n",
              "      <td>6153</td>\n",
              "      <td>218</td>\n",
              "      <td>1377</td>\n",
              "      <td>18-02-2017</td>\n",
              "      <td>PT7M29S</td>\n",
              "      <td>2</td>\n",
              "    </tr>\n",
              "    <tr>\n",
              "      <th>1</th>\n",
              "      <td>1040132</td>\n",
              "      <td>8171</td>\n",
              "      <td>340</td>\n",
              "      <td>1047</td>\n",
              "      <td>28-06-2016</td>\n",
              "      <td>PT6M29S</td>\n",
              "      <td>6</td>\n",
              "    </tr>\n",
              "    <tr>\n",
              "      <th>2</th>\n",
              "      <td>28534</td>\n",
              "      <td>31</td>\n",
              "      <td>11</td>\n",
              "      <td>1</td>\n",
              "      <td>10-03-2014</td>\n",
              "      <td>PT37M54S</td>\n",
              "      <td>4</td>\n",
              "    </tr>\n",
              "    <tr>\n",
              "      <th>3</th>\n",
              "      <td>1316715</td>\n",
              "      <td>2284</td>\n",
              "      <td>250</td>\n",
              "      <td>274</td>\n",
              "      <td>05-06-2010</td>\n",
              "      <td>PT9M55S</td>\n",
              "      <td>7</td>\n",
              "    </tr>\n",
              "    <tr>\n",
              "      <th>4</th>\n",
              "      <td>1893173</td>\n",
              "      <td>2519</td>\n",
              "      <td>225</td>\n",
              "      <td>116</td>\n",
              "      <td>03-09-2016</td>\n",
              "      <td>PT3M8S</td>\n",
              "      <td>2</td>\n",
              "    </tr>\n",
              "  </tbody>\n",
              "</table>\n",
              "</div>"
            ],
            "text/plain": [
              "     views likes dislikes comment   published  duration  category\n",
              "0   440238  6153      218    1377  18-02-2017   PT7M29S         2\n",
              "1  1040132  8171      340    1047  28-06-2016   PT6M29S         6\n",
              "2    28534    31       11       1  10-03-2014  PT37M54S         4\n",
              "3  1316715  2284      250     274  05-06-2010   PT9M55S         7\n",
              "4  1893173  2519      225     116  03-09-2016    PT3M8S         2"
            ]
          },
          "metadata": {},
          "execution_count": 26
        }
      ]
    },
    {
      "cell_type": "code",
      "metadata": {
        "id": "2AMvNkZjXZsL",
        "colab": {
          "base_uri": "https://localhost:8080/",
          "height": 203
        },
        "outputId": "c4196108-137e-447d-c6f9-d93b8d555cdf"
      },
      "source": [
        "testdata=testdata[testdata.views!='F']\n",
        "testdata=testdata[testdata.likes!='F']\n",
        "testdata=testdata[testdata.dislikes!='F']\n",
        "testdata=testdata[testdata.comment!='F']\n",
        "testdata.head()"
      ],
      "execution_count": null,
      "outputs": [
        {
          "output_type": "execute_result",
          "data": {
            "text/html": [
              "<div>\n",
              "<style scoped>\n",
              "    .dataframe tbody tr th:only-of-type {\n",
              "        vertical-align: middle;\n",
              "    }\n",
              "\n",
              "    .dataframe tbody tr th {\n",
              "        vertical-align: top;\n",
              "    }\n",
              "\n",
              "    .dataframe thead th {\n",
              "        text-align: right;\n",
              "    }\n",
              "</style>\n",
              "<table border=\"1\" class=\"dataframe\">\n",
              "  <thead>\n",
              "    <tr style=\"text-align: right;\">\n",
              "      <th></th>\n",
              "      <th>views</th>\n",
              "      <th>likes</th>\n",
              "      <th>dislikes</th>\n",
              "      <th>comment</th>\n",
              "      <th>published</th>\n",
              "      <th>duration</th>\n",
              "      <th>category</th>\n",
              "    </tr>\n",
              "  </thead>\n",
              "  <tbody>\n",
              "    <tr>\n",
              "      <th>0</th>\n",
              "      <td>440238</td>\n",
              "      <td>6153</td>\n",
              "      <td>218</td>\n",
              "      <td>1377</td>\n",
              "      <td>18-02-2017</td>\n",
              "      <td>PT7M29S</td>\n",
              "      <td>2</td>\n",
              "    </tr>\n",
              "    <tr>\n",
              "      <th>1</th>\n",
              "      <td>1040132</td>\n",
              "      <td>8171</td>\n",
              "      <td>340</td>\n",
              "      <td>1047</td>\n",
              "      <td>28-06-2016</td>\n",
              "      <td>PT6M29S</td>\n",
              "      <td>6</td>\n",
              "    </tr>\n",
              "    <tr>\n",
              "      <th>2</th>\n",
              "      <td>28534</td>\n",
              "      <td>31</td>\n",
              "      <td>11</td>\n",
              "      <td>1</td>\n",
              "      <td>10-03-2014</td>\n",
              "      <td>PT37M54S</td>\n",
              "      <td>4</td>\n",
              "    </tr>\n",
              "    <tr>\n",
              "      <th>3</th>\n",
              "      <td>1316715</td>\n",
              "      <td>2284</td>\n",
              "      <td>250</td>\n",
              "      <td>274</td>\n",
              "      <td>05-06-2010</td>\n",
              "      <td>PT9M55S</td>\n",
              "      <td>7</td>\n",
              "    </tr>\n",
              "    <tr>\n",
              "      <th>4</th>\n",
              "      <td>1893173</td>\n",
              "      <td>2519</td>\n",
              "      <td>225</td>\n",
              "      <td>116</td>\n",
              "      <td>03-09-2016</td>\n",
              "      <td>PT3M8S</td>\n",
              "      <td>2</td>\n",
              "    </tr>\n",
              "  </tbody>\n",
              "</table>\n",
              "</div>"
            ],
            "text/plain": [
              "     views likes dislikes comment   published  duration  category\n",
              "0   440238  6153      218    1377  18-02-2017   PT7M29S         2\n",
              "1  1040132  8171      340    1047  28-06-2016   PT6M29S         6\n",
              "2    28534    31       11       1  10-03-2014  PT37M54S         4\n",
              "3  1316715  2284      250     274  05-06-2010   PT9M55S         7\n",
              "4  1893173  2519      225     116  03-09-2016    PT3M8S         2"
            ]
          },
          "metadata": {},
          "execution_count": 27
        }
      ]
    },
    {
      "cell_type": "code",
      "metadata": {
        "id": "IgfG8-JEXd3Q",
        "colab": {
          "base_uri": "https://localhost:8080/",
          "height": 203
        },
        "outputId": "c58de45d-3e8b-4d0e-b481-9bb0bc55f461"
      },
      "source": [
        "testdata[\"views\"] = pd.to_numeric(testdata[\"views\"])\n",
        "testdata[\"comment\"] = pd.to_numeric(testdata[\"comment\"])\n",
        "testdata[\"likes\"] = pd.to_numeric(testdata[\"likes\"])\n",
        "testdata[\"dislikes\"] = pd.to_numeric(testdata[\"dislikes\"])\n",
        "testdata.head()"
      ],
      "execution_count": null,
      "outputs": [
        {
          "output_type": "execute_result",
          "data": {
            "text/html": [
              "<div>\n",
              "<style scoped>\n",
              "    .dataframe tbody tr th:only-of-type {\n",
              "        vertical-align: middle;\n",
              "    }\n",
              "\n",
              "    .dataframe tbody tr th {\n",
              "        vertical-align: top;\n",
              "    }\n",
              "\n",
              "    .dataframe thead th {\n",
              "        text-align: right;\n",
              "    }\n",
              "</style>\n",
              "<table border=\"1\" class=\"dataframe\">\n",
              "  <thead>\n",
              "    <tr style=\"text-align: right;\">\n",
              "      <th></th>\n",
              "      <th>views</th>\n",
              "      <th>likes</th>\n",
              "      <th>dislikes</th>\n",
              "      <th>comment</th>\n",
              "      <th>published</th>\n",
              "      <th>duration</th>\n",
              "      <th>category</th>\n",
              "    </tr>\n",
              "  </thead>\n",
              "  <tbody>\n",
              "    <tr>\n",
              "      <th>0</th>\n",
              "      <td>440238</td>\n",
              "      <td>6153</td>\n",
              "      <td>218</td>\n",
              "      <td>1377</td>\n",
              "      <td>18-02-2017</td>\n",
              "      <td>PT7M29S</td>\n",
              "      <td>2</td>\n",
              "    </tr>\n",
              "    <tr>\n",
              "      <th>1</th>\n",
              "      <td>1040132</td>\n",
              "      <td>8171</td>\n",
              "      <td>340</td>\n",
              "      <td>1047</td>\n",
              "      <td>28-06-2016</td>\n",
              "      <td>PT6M29S</td>\n",
              "      <td>6</td>\n",
              "    </tr>\n",
              "    <tr>\n",
              "      <th>2</th>\n",
              "      <td>28534</td>\n",
              "      <td>31</td>\n",
              "      <td>11</td>\n",
              "      <td>1</td>\n",
              "      <td>10-03-2014</td>\n",
              "      <td>PT37M54S</td>\n",
              "      <td>4</td>\n",
              "    </tr>\n",
              "    <tr>\n",
              "      <th>3</th>\n",
              "      <td>1316715</td>\n",
              "      <td>2284</td>\n",
              "      <td>250</td>\n",
              "      <td>274</td>\n",
              "      <td>05-06-2010</td>\n",
              "      <td>PT9M55S</td>\n",
              "      <td>7</td>\n",
              "    </tr>\n",
              "    <tr>\n",
              "      <th>4</th>\n",
              "      <td>1893173</td>\n",
              "      <td>2519</td>\n",
              "      <td>225</td>\n",
              "      <td>116</td>\n",
              "      <td>03-09-2016</td>\n",
              "      <td>PT3M8S</td>\n",
              "      <td>2</td>\n",
              "    </tr>\n",
              "  </tbody>\n",
              "</table>\n",
              "</div>"
            ],
            "text/plain": [
              "     views  likes  dislikes  comment   published  duration  category\n",
              "0   440238   6153       218     1377  18-02-2017   PT7M29S         2\n",
              "1  1040132   8171       340     1047  28-06-2016   PT6M29S         6\n",
              "2    28534     31        11        1  10-03-2014  PT37M54S         4\n",
              "3  1316715   2284       250      274  05-06-2010   PT9M55S         7\n",
              "4  1893173   2519       225      116  03-09-2016    PT3M8S         2"
            ]
          },
          "metadata": {},
          "execution_count": 28
        }
      ]
    },
    {
      "cell_type": "code",
      "metadata": {
        "id": "3_zLKjFbXiWW"
      },
      "source": [
        "testdata['duration']=LabelEncoder().fit_transform(testdata['duration'])"
      ],
      "execution_count": null,
      "outputs": []
    },
    {
      "cell_type": "code",
      "metadata": {
        "id": "TWgve65wXmIb",
        "colab": {
          "base_uri": "https://localhost:8080/",
          "height": 203
        },
        "outputId": "4b7f6677-5504-4304-f132-b5f0e6627546"
      },
      "source": [
        "testdata['published']=LabelEncoder().fit_transform(testdata['published'])\n",
        "testdata.head()"
      ],
      "execution_count": null,
      "outputs": [
        {
          "output_type": "execute_result",
          "data": {
            "text/html": [
              "<div>\n",
              "<style scoped>\n",
              "    .dataframe tbody tr th:only-of-type {\n",
              "        vertical-align: middle;\n",
              "    }\n",
              "\n",
              "    .dataframe tbody tr th {\n",
              "        vertical-align: top;\n",
              "    }\n",
              "\n",
              "    .dataframe thead th {\n",
              "        text-align: right;\n",
              "    }\n",
              "</style>\n",
              "<table border=\"1\" class=\"dataframe\">\n",
              "  <thead>\n",
              "    <tr style=\"text-align: right;\">\n",
              "      <th></th>\n",
              "      <th>views</th>\n",
              "      <th>likes</th>\n",
              "      <th>dislikes</th>\n",
              "      <th>comment</th>\n",
              "      <th>published</th>\n",
              "      <th>duration</th>\n",
              "      <th>category</th>\n",
              "    </tr>\n",
              "  </thead>\n",
              "  <tbody>\n",
              "    <tr>\n",
              "      <th>0</th>\n",
              "      <td>440238</td>\n",
              "      <td>6153</td>\n",
              "      <td>218</td>\n",
              "      <td>1377</td>\n",
              "      <td>1186</td>\n",
              "      <td>2115</td>\n",
              "      <td>2</td>\n",
              "    </tr>\n",
              "    <tr>\n",
              "      <th>1</th>\n",
              "      <td>1040132</td>\n",
              "      <td>8171</td>\n",
              "      <td>340</td>\n",
              "      <td>1047</td>\n",
              "      <td>1898</td>\n",
              "      <td>2055</td>\n",
              "      <td>6</td>\n",
              "    </tr>\n",
              "    <tr>\n",
              "      <th>2</th>\n",
              "      <td>28534</td>\n",
              "      <td>31</td>\n",
              "      <td>11</td>\n",
              "      <td>1</td>\n",
              "      <td>634</td>\n",
              "      <td>1506</td>\n",
              "      <td>4</td>\n",
              "    </tr>\n",
              "    <tr>\n",
              "      <th>3</th>\n",
              "      <td>1316715</td>\n",
              "      <td>2284</td>\n",
              "      <td>250</td>\n",
              "      <td>274</td>\n",
              "      <td>307</td>\n",
              "      <td>2265</td>\n",
              "      <td>7</td>\n",
              "    </tr>\n",
              "    <tr>\n",
              "      <th>4</th>\n",
              "      <td>1893173</td>\n",
              "      <td>2519</td>\n",
              "      <td>225</td>\n",
              "      <td>116</td>\n",
              "      <td>187</td>\n",
              "      <td>1625</td>\n",
              "      <td>2</td>\n",
              "    </tr>\n",
              "  </tbody>\n",
              "</table>\n",
              "</div>"
            ],
            "text/plain": [
              "     views  likes  dislikes  comment  published  duration  category\n",
              "0   440238   6153       218     1377       1186      2115         2\n",
              "1  1040132   8171       340     1047       1898      2055         6\n",
              "2    28534     31        11        1        634      1506         4\n",
              "3  1316715   2284       250      274        307      2265         7\n",
              "4  1893173   2519       225      116        187      1625         2"
            ]
          },
          "metadata": {},
          "execution_count": 30
        }
      ]
    },
    {
      "cell_type": "code",
      "metadata": {
        "id": "6vGuuyMaXrMs",
        "colab": {
          "base_uri": "https://localhost:8080/",
          "height": 203
        },
        "outputId": "e5c6f52b-71f8-437f-cc8b-35b2decc2ade"
      },
      "source": [
        "test=pd.read_csv(\"test.csv\")\n",
        "mp = pd.read_csv(\"test.csv\")[\"duration\"]\n",
        "time = mp.apply(checki)\n",
        "def func_sec(time_string):\n",
        "  h, m, s = time_string.split(':')\n",
        "  return int(h) * 3600 + int(m) * 60 + int(s)\n",
        "time1=time.apply(func_sec)\n",
        "testdata[\"duration\"]=time1\n",
        "testdata.head()"
      ],
      "execution_count": null,
      "outputs": [
        {
          "output_type": "execute_result",
          "data": {
            "text/html": [
              "<div>\n",
              "<style scoped>\n",
              "    .dataframe tbody tr th:only-of-type {\n",
              "        vertical-align: middle;\n",
              "    }\n",
              "\n",
              "    .dataframe tbody tr th {\n",
              "        vertical-align: top;\n",
              "    }\n",
              "\n",
              "    .dataframe thead th {\n",
              "        text-align: right;\n",
              "    }\n",
              "</style>\n",
              "<table border=\"1\" class=\"dataframe\">\n",
              "  <thead>\n",
              "    <tr style=\"text-align: right;\">\n",
              "      <th></th>\n",
              "      <th>views</th>\n",
              "      <th>likes</th>\n",
              "      <th>dislikes</th>\n",
              "      <th>comment</th>\n",
              "      <th>published</th>\n",
              "      <th>duration</th>\n",
              "      <th>category</th>\n",
              "    </tr>\n",
              "  </thead>\n",
              "  <tbody>\n",
              "    <tr>\n",
              "      <th>0</th>\n",
              "      <td>440238</td>\n",
              "      <td>6153</td>\n",
              "      <td>218</td>\n",
              "      <td>1377</td>\n",
              "      <td>1186</td>\n",
              "      <td>449</td>\n",
              "      <td>2</td>\n",
              "    </tr>\n",
              "    <tr>\n",
              "      <th>1</th>\n",
              "      <td>1040132</td>\n",
              "      <td>8171</td>\n",
              "      <td>340</td>\n",
              "      <td>1047</td>\n",
              "      <td>1898</td>\n",
              "      <td>389</td>\n",
              "      <td>6</td>\n",
              "    </tr>\n",
              "    <tr>\n",
              "      <th>2</th>\n",
              "      <td>28534</td>\n",
              "      <td>31</td>\n",
              "      <td>11</td>\n",
              "      <td>1</td>\n",
              "      <td>634</td>\n",
              "      <td>2274</td>\n",
              "      <td>4</td>\n",
              "    </tr>\n",
              "    <tr>\n",
              "      <th>3</th>\n",
              "      <td>1316715</td>\n",
              "      <td>2284</td>\n",
              "      <td>250</td>\n",
              "      <td>274</td>\n",
              "      <td>307</td>\n",
              "      <td>595</td>\n",
              "      <td>7</td>\n",
              "    </tr>\n",
              "    <tr>\n",
              "      <th>4</th>\n",
              "      <td>1893173</td>\n",
              "      <td>2519</td>\n",
              "      <td>225</td>\n",
              "      <td>116</td>\n",
              "      <td>187</td>\n",
              "      <td>188</td>\n",
              "      <td>2</td>\n",
              "    </tr>\n",
              "  </tbody>\n",
              "</table>\n",
              "</div>"
            ],
            "text/plain": [
              "     views  likes  dislikes  comment  published  duration  category\n",
              "0   440238   6153       218     1377       1186       449         2\n",
              "1  1040132   8171       340     1047       1898       389         6\n",
              "2    28534     31        11        1        634      2274         4\n",
              "3  1316715   2284       250      274        307       595         7\n",
              "4  1893173   2519       225      116        187       188         2"
            ]
          },
          "metadata": {},
          "execution_count": 31
        }
      ]
    },
    {
      "cell_type": "code",
      "metadata": {
        "id": "ksVriVfAXu5z"
      },
      "source": [
        "testdata=MinMaxScaler().fit_transform(testdata)"
      ],
      "execution_count": null,
      "outputs": []
    },
    {
      "cell_type": "code",
      "metadata": {
        "id": "RhSE12JKX2Iu",
        "colab": {
          "base_uri": "https://localhost:8080/"
        },
        "outputId": "75f56dae-0eeb-49e1-c639-44617c12ac6e"
      },
      "source": [
        "result=decision_tree.predict(testdata)\n",
        "result=list(result)\n",
        "len(result)"
      ],
      "execution_count": null,
      "outputs": [
        {
          "output_type": "execute_result",
          "data": {
            "text/plain": [
              "8549"
            ]
          },
          "metadata": {},
          "execution_count": 34
        }
      ]
    },
    {
      "cell_type": "code",
      "metadata": {
        "id": "vNrCT-NmX3FB"
      },
      "source": [
        "import csv\n",
        "with open('Predictions_Submission.csv','w',newline='') as f:\n",
        "  filenames=['Adview_Predictions']\n",
        "  thewriter=csv.DictWriter(f,fieldnames=filenames)\n",
        "  thewriter.writeheader()\n",
        "  for i in range(0,len(result)):\n",
        "    thewriter.writerow({'Adview_Predictions':str(result[i])})"
      ],
      "execution_count": null,
      "outputs": []
    }
  ]
}